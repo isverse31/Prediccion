{
 "cells": [
  {
   "cell_type": "code",
   "execution_count": 24,
   "id": "f0102c46",
   "metadata": {},
   "outputs": [
    {
     "name": "stdout",
     "output_type": "stream",
     "text": [
      " * Serving Flask app '__main__'\n",
      " * Debug mode: off\n"
     ]
    },
    {
     "name": "stderr",
     "output_type": "stream",
     "text": [
      "WARNING: This is a development server. Do not use it in a production deployment. Use a production WSGI server instead.\n",
      " * Running on http://127.0.0.1:5000\n",
      "Press CTRL+C to quit\n",
      "127.0.0.1 - - [24/May/2024 12:19:17] \"GET / HTTP/1.1\" 200 -\n",
      "/root/anaconda3/lib/python3.11/site-packages/sklearn/base.py:439: UserWarning: X does not have valid feature names, but RandomForestRegressor was fitted with feature names\n",
      "  warnings.warn(\n",
      "127.0.0.1 - - [24/May/2024 12:19:26] \"POST / HTTP/1.1\" 200 -\n",
      "/root/anaconda3/lib/python3.11/site-packages/sklearn/base.py:439: UserWarning: X does not have valid feature names, but RandomForestRegressor was fitted with feature names\n",
      "  warnings.warn(\n",
      "127.0.0.1 - - [24/May/2024 12:19:36] \"POST / HTTP/1.1\" 200 -\n",
      "/root/anaconda3/lib/python3.11/site-packages/sklearn/base.py:439: UserWarning: X does not have valid feature names, but RandomForestRegressor was fitted with feature names\n",
      "  warnings.warn(\n",
      "127.0.0.1 - - [24/May/2024 12:19:46] \"POST / HTTP/1.1\" 200 -\n",
      "/root/anaconda3/lib/python3.11/site-packages/sklearn/base.py:439: UserWarning: X does not have valid feature names, but RandomForestRegressor was fitted with feature names\n",
      "  warnings.warn(\n",
      "127.0.0.1 - - [24/May/2024 12:19:55] \"POST / HTTP/1.1\" 200 -\n"
     ]
    }
   ],
   "source": [
    "from flask import Flask, request, render_template\n",
    "import joblib\n",
    "import numpy as np\n",
    "\n",
    "app = Flask(__name__)\n",
    "\n",
    "# Carga el modelo entrenado (asegúrate de que el path al archivo .pkl sea correcto)\n",
    "model = joblib.load('ProduccionSobreprecios.pkl')\n",
    "\n",
    "@app.route('/', methods=['GET', 'POST'])\n",
    "def home():\n",
    "    if request.method == 'POST':\n",
    "        try:\n",
    "            # Recupera los datos del formulario\n",
    "            Nomestado = request.form['Nomestado']\n",
    "            Sembrada = float(request.form['Sembrada'])\n",
    "            Cosechada = float(request.form['Cosechada'])\n",
    "            Volumenproduccion = float(request.form['Volumenproduccion'])\n",
    "            Rendimiento = float(request.form['Rendimiento'])\n",
    "            Preciomediorural = float(request.form['Preciomediorural'])\n",
    "            Nomcultivo = request.form['Nomcultivo']\n",
    "            Nomcultivo_1 = request.form['Nomcultivo_1']\n",
    "            Sembrada_1 = float(request.form['Sembrada_1'])\n",
    "            Cosechada_1 = float(request.form['Cosechada_1'])\n",
    "            Volumenproduccion_1 = float(request.form['Volumenproduccion_1'])\n",
    "            Rendimiento_1 = float(request.form['Rendimiento_1'])\n",
    "            Preciomediorural_1 = float(request.form['Preciomediorural_1'])\n",
    "            Valorproduccion_1 = float(request.form['Valorproduccion_1'])\n",
    "\n",
    "            # Prepara los datos para el modelo\n",
    "            features = np.array([[Nomestado, Nomcultivo, Sembrada, Cosechada, Volumenproduccion,\n",
    "                                  Rendimiento, Preciomediorural, Nomcultivo_1, Sembrada_1,\n",
    "                                  Cosechada_1, Volumenproduccion_1, Rendimiento_1,\n",
    "                                  Preciomediorural_1, Valorproduccion_1]])\n",
    "            prediction = model.predict(features)[0]  # Agrega [0] para obtener la predicción como un número flotante\n",
    "\n",
    "            # Devuelve el resultado de la predicción\n",
    "            return render_template('index.html', prediction_text=f'Predicted Output: {float(prediction)}')\n",
    "        except Exception as e:\n",
    "            return f\"Error: {str(e)}\"\n",
    "    return render_template('index.html')\n",
    "\n",
    "if __name__ == \"__main__\":\n",
    "    app.run()"
   ]
  },
  {
   "cell_type": "code",
   "execution_count": 80,
   "id": "bf959a30",
   "metadata": {},
   "outputs": [
    {
     "ename": "SyntaxError",
     "evalue": "invalid syntax (1315127944.py, line 25)",
     "output_type": "error",
     "traceback": [
      "\u001b[0;36m  Cell \u001b[0;32mIn[63], line 25\u001b[0;36m\u001b[0m\n\u001b[0;31m    Cosechada.1 = float(request.form['Cosechada'])  # Agregar esta línea\u001b[0m\n\u001b[0m             ^\u001b[0m\n\u001b[0;31mSyntaxError\u001b[0m\u001b[0;31m:\u001b[0m invalid syntax\n"
     ]
    }
   ],
   "source": [
    "%tb"
   ]
  },
  {
   "cell_type": "code",
   "execution_count": null,
   "id": "b2851534",
   "metadata": {},
   "outputs": [],
   "source": []
  },
  {
   "cell_type": "code",
   "execution_count": null,
   "id": "1fb9f1ca-4a59-4f2b-82ee-c5d0e4225478",
   "metadata": {},
   "outputs": [],
   "source": []
  }
 ],
 "metadata": {
  "kernelspec": {
   "display_name": "Python 3 (ipykernel)",
   "language": "python",
   "name": "python3"
  },
  "language_info": {
   "codemirror_mode": {
    "name": "ipython",
    "version": 3
   },
   "file_extension": ".py",
   "mimetype": "text/x-python",
   "name": "python",
   "nbconvert_exporter": "python",
   "pygments_lexer": "ipython3",
   "version": "3.11.7"
  }
 },
 "nbformat": 4,
 "nbformat_minor": 5
}
